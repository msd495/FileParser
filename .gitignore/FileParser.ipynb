{
 "cells": [
  {
   "cell_type": "code",
   "execution_count": 5,
   "metadata": {},
   "outputs": [],
   "source": [
    "def readFileUsingStreams(fileName):\n",
    "    lines=[]\n",
    "    with open(fileName, 'r') as f:\n",
    "        for line in iter(f.readline, ''):\n",
    "            #print line.encode('hex')  # Don't mess up my terminal\n",
    "            lines.append(line.rstrip('\\n'))\n",
    "    #print(lines)\n",
    "    return lines"
   ]
  },
  {
   "cell_type": "code",
   "execution_count": 6,
   "metadata": {},
   "outputs": [],
   "source": [
    "from collections import OrderedDict\n",
    "def parseMetaDateFile(filename,delimeter):\n",
    "    #lines = [line.rstrip('\\n') for line in open(filename)] ##use this if you want to load the entire file at a time\n",
    "    lines=readFileUsingStreams(filename)\n",
    "    res=OrderedDict()\n",
    "    for word in lines:\n",
    "        arr=word.split(delimeter)\n",
    "        res[arr[0]]=arr[1]\n",
    "    #print(res)\n",
    "    return res"
   ]
  },
  {
   "cell_type": "code",
   "execution_count": 7,
   "metadata": {},
   "outputs": [],
   "source": [
    "def parseFixedFile(filename):\n",
    "    res1=[]\n",
    "    #lines = [line.rstrip('\\n') for line in open('DataFile.csv')]\n",
    "    lines=readFileUsingStreams(filename)\n",
    "    #print(lines)\n",
    "    for line in lines:\n",
    "        start=0\n",
    "        res_string=[]\n",
    "        parsedMetaList=parseMetaDateFile('metadatafile.csv',',')\n",
    "        for item in parsedMetaList:\n",
    "            #print(int(parsedMetaList[item]))\n",
    "            #print(\"start...\",start,\"end...\",start+int(parsedMetaList[item]))\n",
    "            res_string.append(line[start:start+int(parsedMetaList[item])].strip())\n",
    "            start=start+int(parsedMetaList[item])\n",
    "        res1.append(res_string)\n",
    "        #print(\"res string is \",res_string)\n",
    "    print(res1)\n",
    "    return res1"
   ]
  },
  {
   "cell_type": "code",
   "execution_count": 8,
   "metadata": {},
   "outputs": [
    {
     "name": "stdout",
     "output_type": "stream",
     "text": [
      "[['1970-01-01', 'John', 'Smith', '81.5'], ['1975-01-31', 'Jane', 'Doe', '61.1'], ['1988-11-28', 'Bob', 'Big', '102.4']]\n"
     ]
    }
   ],
   "source": [
    "#readFileUsingStreams('DataFile.csv')(Test method)\n",
    "result=parseFixedFile('DataFile.csv')\n",
    "\n",
    "import csv\n",
    "with open('result.csv', 'a') as csvFile:\n",
    "    writer = csv.writer(csvFile)\n",
    "    for row in result:\n",
    "        writer.writerow(row)\n",
    "csvFile.close()"
   ]
  }
 ],
 "metadata": {
  "kernelspec": {
   "display_name": "Python 3",
   "language": "python",
   "name": "python3"
  },
  "language_info": {
   "codemirror_mode": {
    "name": "ipython",
    "version": 3
   },
   "file_extension": ".py",
   "mimetype": "text/x-python",
   "name": "python",
   "nbconvert_exporter": "python",
   "pygments_lexer": "ipython3",
   "version": "3.5.4"
  }
 },
 "nbformat": 4,
 "nbformat_minor": 2
}
